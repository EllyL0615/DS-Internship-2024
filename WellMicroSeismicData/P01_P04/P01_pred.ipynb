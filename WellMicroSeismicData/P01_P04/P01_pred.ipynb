{
 "cells": [
  {
   "cell_type": "code",
   "execution_count": null,
   "metadata": {},
   "outputs": [],
   "source": [
    "import pandas as pd\n",
    "import numpy as np\n",
    "import matplotlib.pyplot as plt\n",
    "\n",
    "from sklearn.model_selection import train_test_split\n",
    "from sklearn.preprocessing import StandardScaler, PolynomialFeatures, MinMaxScaler\n",
    "from sklearn.metrics import mean_squared_error, r2_score\n",
    "from sklearn.model_selection import cross_val_score, cross_val_predict\n",
    "\n",
    "import torch\n",
    "import torch.nn as nn\n",
    "import torch.nn.functional as F\n",
    "import torch.optim as optim\n",
    "from torch.utils.data import DataLoader, TensorDataset"
   ]
  },
  {
   "cell_type": "code",
   "execution_count": null,
   "metadata": {},
   "outputs": [],
   "source": [
    "df_og = pd.read_pickle('P04.pkl')\n",
    "df_og    # WMSD after KDE"
   ]
  },
  {
   "cell_type": "code",
   "execution_count": null,
   "metadata": {},
   "outputs": [],
   "source": [
    "df = df_og[['Radius', 'ANT', 'GXYX', 'CURVE', 'WellMicroSeismicData']]\n",
    "df.describe()"
   ]
  },
  {
   "cell_type": "code",
   "execution_count": null,
   "metadata": {},
   "outputs": [],
   "source": [
    "train_set = pd.read_pickle('train_set.pkl')\n",
    "test_set = pd.read_pickle('test_set.pkl')\n",
    "\n",
    "X = df[['Radius', 'ANT', 'GXYX', 'CURVE']].copy()\n",
    "y = df['WellMicroSeismicData'].copy()\n",
    "X_train = train_set[['Radius', 'ANT', 'GXYX', 'CURVE']].copy()    # X_train: feature vairables in training dataset\n",
    "y_train = train_set['WellMicroSeismicData'].copy()    # y_train : response variable in training dataset\n",
    "X_test = test_set[['Radius', 'ANT', 'GXYX', 'CURVE']].copy()    # X_test: feature vairables in testing dataset\n",
    "y_test = test_set['WellMicroSeismicData'].copy()    # y_test : response variable in testing dataset\n",
    "X_train"
   ]
  },
  {
   "cell_type": "code",
   "execution_count": null,
   "metadata": {},
   "outputs": [],
   "source": [
    "X_s = StandardScaler().fit_transform(X)\n",
    "X_train_s = StandardScaler().fit_transform(X_train)\n",
    "X_test_s = StandardScaler().fit_transform(X_test)\n",
    "X_s"
   ]
  },
  {
   "cell_type": "markdown",
   "metadata": {},
   "source": [
    "### Regression model selection and parameter tuning\n",
    "\n",
    "**Final Decision**: \n",
    "1. Random Forest, depth=15\n",
    "2. Extra Trees with Bagging, depth=21"
   ]
  },
  {
   "cell_type": "markdown",
   "metadata": {},
   "source": [
    "#### 1. Random Forest, depth=15"
   ]
  },
  {
   "cell_type": "code",
   "execution_count": null,
   "metadata": {},
   "outputs": [],
   "source": [
    "from sklearn.ensemble import RandomForestRegressor\n",
    "\n",
    "rf_reg = RandomForestRegressor()\n",
    "rf_reg.fit(X_train_s, y_train)\n",
    "\n",
    "rf_pred = rf_reg.predict(X_train_s)\n",
    "rf_mse = mean_squared_error(y_train, rf_pred)\n",
    "rf_r2 = r2_score(y_train, rf_pred)\n",
    "\n",
    "rf_pred_test = rf_reg.predict(X_test_s)\n",
    "rf_mse_test = mean_squared_error(y_test, rf_pred_test)\n",
    "rf_r2_test = r2_score(y_test, rf_pred_test)\n",
    "\n",
    "\n",
    "print(rf_mse, rf_r2, rf_mse_test, rf_r2_test, rf_reg.feature_importances_)\n",
    "fig, axes = plt.subplots(1, 2, figsize=(10, 5))\n",
    "axes[0].scatter(y_train, rf_pred, alpha = 0.02)\n",
    "axes[0].plot((0, 0.4), (0, 0.4))\n",
    "axes[1].scatter(y_test, rf_pred_test, alpha = 0.05)\n",
    "axes[1].plot((0, 0.4), (0, 0.4))"
   ]
  },
  {
   "cell_type": "code",
   "execution_count": null,
   "metadata": {},
   "outputs": [],
   "source": [
    "def train_and_evaluate_rf(max_depth=None):\n",
    "    rf_reg = RandomForestRegressor(max_depth=max_depth, random_state=42)\n",
    "    rf_reg.fit(X_train_s, y_train)\n",
    "\n",
    "    rf_pred = rf_reg.predict(X_train_s)\n",
    "    rf_mse = mean_squared_error(y_train, rf_pred)\n",
    "    rf_r2 = r2_score(y_train, rf_pred)\n",
    "\n",
    "    rf_pred_test = rf_reg.predict(X_test_s)\n",
    "    rf_mse_test = mean_squared_error(y_test, rf_pred_test)\n",
    "    rf_r2_test = r2_score(y_test, rf_pred_test)\n",
    "\n",
    "    \n",
    "    return rf_mse, rf_mse_test, rf_r2, rf_r2_test"
   ]
  },
  {
   "cell_type": "code",
   "execution_count": null,
   "metadata": {},
   "outputs": [],
   "source": [
    "max_depths = [1, 10, 15, 20, 25, 30]\n",
    "train_mse = []\n",
    "test_mse = []\n",
    "train_r2 = []\n",
    "test_r2 = []\n",
    "\n",
    "for i in max_depths:\n",
    "    a, b, c, d = train_and_evaluate_rf(max_depth=i)\n",
    "    train_mse.append(a)\n",
    "    test_mse.append(b)\n",
    "    train_r2.append(c)\n",
    "    test_r2.append(d)\n",
    "\n",
    "\n",
    "plt.figure(figsize=(10, 5))\n",
    "\n",
    "plt.subplot(1, 2, 1)\n",
    "plt.plot(max_depths, train_mse, label='Training MSE')\n",
    "plt.plot(max_depths, test_mse, label='Test MSE')\n",
    "plt.xlabel('Maximum Depth')\n",
    "plt.ylabel('MSE')\n",
    "plt.title('MSE vs Maximum Depth')\n",
    "plt.legend()\n",
    "\n",
    "plt.subplot(1, 2, 2)\n",
    "plt.plot(max_depths, train_r2, label='Training R2')\n",
    "plt.plot(max_depths, test_r2, label='Test R2')\n",
    "plt.xlabel('Maximum Depth')\n",
    "plt.ylabel('R2')\n",
    "plt.title('R2 vs Maximum Depth')\n",
    "plt.legend()\n",
    "\n",
    "plt.tight_layout()\n",
    "plt.show()\n",
    "\n",
    "train_mse, test_mse, train_r2, test_r2"
   ]
  },
  {
   "cell_type": "code",
   "execution_count": null,
   "metadata": {},
   "outputs": [],
   "source": [
    "max_depths = [13, 14, 15, 16, 17]\n",
    "train_mse = []\n",
    "test_mse = []\n",
    "train_r2 = []\n",
    "test_r2 = []\n",
    "\n",
    "for i in max_depths:\n",
    "    a, b, c, d = train_and_evaluate_rf(max_depth=i)\n",
    "    train_mse.append(a)\n",
    "    test_mse.append(b)\n",
    "    train_r2.append(c)\n",
    "    test_r2.append(d)\n",
    "\n",
    "\n",
    "plt.figure(figsize=(10, 5))\n",
    "\n",
    "plt.subplot(1, 2, 1)\n",
    "plt.plot(max_depths, train_mse, label='Training MSE')\n",
    "plt.plot(max_depths, test_mse, label='Test MSE')\n",
    "plt.xlabel('Maximum Depth')\n",
    "plt.ylabel('MSE')\n",
    "plt.title('MSE vs Maximum Depth')\n",
    "plt.legend()\n",
    "\n",
    "plt.subplot(1, 2, 2)\n",
    "plt.plot(max_depths, train_r2, label='Training R2')\n",
    "plt.plot(max_depths, test_r2, label='Test R2')\n",
    "plt.xlabel('Maximum Depth')\n",
    "plt.ylabel('R2')\n",
    "plt.title('R2 vs Maximum Depth')\n",
    "plt.legend()\n",
    "\n",
    "plt.tight_layout()\n",
    "plt.show()\n",
    "\n",
    "train_mse, test_mse, train_r2, test_r2"
   ]
  },
  {
   "cell_type": "code",
   "execution_count": null,
   "metadata": {},
   "outputs": [],
   "source": [
    "from sklearn.ensemble import RandomForestRegressor\n",
    "\n",
    "rf_reg = RandomForestRegressor(max_depth=15, random_state=42)\n",
    "rf_reg.fit(X_train_s, y_train)\n",
    "\n",
    "rf_pred = rf_reg.predict(X_train_s)\n",
    "rf_mse = mean_squared_error(y_train, rf_pred)\n",
    "rf_r2 = r2_score(y_train, rf_pred)\n",
    "\n",
    "rf_pred_test = rf_reg.predict(X_test_s)\n",
    "rf_mse_test = mean_squared_error(y_test, rf_pred_test)\n",
    "rf_r2_test = r2_score(y_test, rf_pred_test)\n",
    "\n",
    "\n",
    "print(rf_mse, rf_r2, rf_mse_test, rf_r2_test, rf_reg.feature_importances_)\n",
    "fig, axes = plt.subplots(1, 2, figsize=(10, 5))\n",
    "axes[0].scatter(y_train, rf_pred, alpha = 0.02)\n",
    "axes[0].plot((0, 0.4), (0, 0.4))\n",
    "axes[1].scatter(y_test, rf_pred_test, alpha = 0.05)\n",
    "axes[1].plot((0, 0.4), (0, 0.4))"
   ]
  },
  {
   "cell_type": "markdown",
   "metadata": {},
   "source": [
    "#### 2. Extra Trees with Bagging, depth=21"
   ]
  },
  {
   "cell_type": "code",
   "execution_count": null,
   "metadata": {},
   "outputs": [],
   "source": [
    "from sklearn.ensemble import ExtraTreesRegressor\n",
    "from sklearn.ensemble import BaggingRegressor\n",
    "\n",
    "etbag_reg = BaggingRegressor(ExtraTreesRegressor())\n",
    "etbag_reg.fit(X_train_s, y_train)\n",
    "\n",
    "etbag_pred = etbag_reg.predict(X_train_s)\n",
    "etbag_mse = mean_squared_error(y_train, etbag_pred)\n",
    "etbag_r2 = r2_score(y_train, etbag_pred)\n",
    "\n",
    "etbag_pred_test = etbag_reg.predict(X_test_s)\n",
    "etbag_mse_test = mean_squared_error(y_test, etbag_pred_test)\n",
    "etbag_r2_test = r2_score(y_test, etbag_pred_test)\n",
    "\n",
    "\n",
    "print(etbag_mse, etbag_r2, etbag_mse_test, etbag_r2_test)\n",
    "fig, axes = plt.subplots(1, 2, figsize=(10, 5))\n",
    "axes[0].scatter(y_train, etbag_pred, alpha = 0.02)\n",
    "axes[0].plot((0, 0.4), (0, 0.4))\n",
    "axes[1].scatter(y_test, etbag_pred_test, alpha = 0.05)\n",
    "axes[1].plot((0, 0.4), (0, 0.4))"
   ]
  },
  {
   "cell_type": "code",
   "execution_count": null,
   "metadata": {},
   "outputs": [],
   "source": [
    "def train_and_evaluate_etbag(max_depth=None):\n",
    "    etbag_reg = BaggingRegressor(ExtraTreesRegressor(max_depth=max_depth, random_state=42))\n",
    "    etbag_reg.fit(X_train_s, y_train)\n",
    "\n",
    "    etbag_pred = etbag_reg.predict(X_train_s)\n",
    "    etbag_mse = mean_squared_error(y_train, etbag_pred)\n",
    "    etbag_r2 = r2_score(y_train, etbag_pred)\n",
    "\n",
    "    etbag_pred_test = etbag_reg.predict(X_test_s)\n",
    "    etbag_mse_test = mean_squared_error(y_test, etbag_pred_test)\n",
    "    etbag_r2_test = r2_score(y_test, etbag_pred_test)\n",
    "\n",
    "    \n",
    "    return etbag_mse, etbag_mse_test, etbag_r2, etbag_r2_test"
   ]
  },
  {
   "cell_type": "code",
   "execution_count": null,
   "metadata": {},
   "outputs": [],
   "source": [
    "max_depths = [1, 10, 20, 30, 40]\n",
    "train_mse = []\n",
    "test_mse = []\n",
    "train_r2 = []\n",
    "test_r2 = []\n",
    "\n",
    "for i in max_depths:\n",
    "    a, b, c, d = train_and_evaluate_etbag(max_depth=i)\n",
    "    train_mse.append(a)\n",
    "    test_mse.append(b)\n",
    "    train_r2.append(c)\n",
    "    test_r2.append(d)\n",
    "\n",
    "\n",
    "plt.figure(figsize=(10, 5))\n",
    "\n",
    "plt.subplot(1, 2, 1)\n",
    "plt.plot(max_depths, train_mse, label='Training MSE')\n",
    "plt.plot(max_depths, test_mse, label='Test MSE')\n",
    "plt.xlabel('Maximum Depth')\n",
    "plt.ylabel('MSE')\n",
    "plt.title('MSE vs Maximum Depth')\n",
    "plt.legend()\n",
    "\n",
    "plt.subplot(1, 2, 2)\n",
    "plt.plot(max_depths, train_r2, label='Training R2')\n",
    "plt.plot(max_depths, test_r2, label='Test R2')\n",
    "plt.xlabel('Maximum Depth')\n",
    "plt.ylabel('R2')\n",
    "plt.title('R2 vs Maximum Depth')\n",
    "plt.legend()\n",
    "\n",
    "plt.tight_layout()\n",
    "plt.show()\n",
    "\n",
    "train_mse, test_mse, train_r2, test_r2"
   ]
  },
  {
   "cell_type": "code",
   "execution_count": null,
   "metadata": {},
   "outputs": [],
   "source": [
    "max_depths = [18, 19, 20, 21, 22, 23, 24, 25]\n",
    "train_mse = []\n",
    "test_mse = []\n",
    "train_r2 = []\n",
    "test_r2 = []\n",
    "\n",
    "for i in max_depths:\n",
    "    a, b, c, d = train_and_evaluate_etbag(max_depth=i)\n",
    "    train_mse.append(a)\n",
    "    test_mse.append(b)\n",
    "    train_r2.append(c)\n",
    "    test_r2.append(d)\n",
    "\n",
    "\n",
    "plt.figure(figsize=(10, 5))\n",
    "\n",
    "plt.subplot(1, 2, 1)\n",
    "plt.plot(max_depths, train_mse, label='Training MSE')\n",
    "plt.plot(max_depths, test_mse, label='Test MSE')\n",
    "plt.xlabel('Maximum Depth')\n",
    "plt.ylabel('MSE')\n",
    "plt.title('MSE vs Maximum Depth')\n",
    "plt.legend()\n",
    "\n",
    "plt.subplot(1, 2, 2)\n",
    "plt.plot(max_depths, train_r2, label='Training R2')\n",
    "plt.plot(max_depths, test_r2, label='Test R2')\n",
    "plt.xlabel('Maximum Depth')\n",
    "plt.ylabel('R2')\n",
    "plt.title('R2 vs Maximum Depth')\n",
    "plt.legend()\n",
    "\n",
    "plt.tight_layout()\n",
    "plt.show()\n",
    "\n",
    "train_mse, test_mse, train_r2, test_r2"
   ]
  },
  {
   "cell_type": "code",
   "execution_count": null,
   "metadata": {},
   "outputs": [],
   "source": [
    "from sklearn.ensemble import ExtraTreesRegressor\n",
    "from sklearn.ensemble import BaggingRegressor\n",
    "\n",
    "etbag_reg = BaggingRegressor(ExtraTreesRegressor(max_depth=22, random_state=42))\n",
    "etbag_reg.fit(X_train_s, y_train)\n",
    "\n",
    "etbag_pred = etbag_reg.predict(X_train_s)\n",
    "etbag_mse = mean_squared_error(y_train, etbag_pred)\n",
    "etbag_r2 = r2_score(y_train, etbag_pred)\n",
    "\n",
    "etbag_pred_test = etbag_reg.predict(X_test_s)\n",
    "etbag_mse_test = mean_squared_error(y_test, etbag_pred_test)\n",
    "etbag_r2_test = r2_score(y_test, etbag_pred_test)\n",
    "\n",
    "\n",
    "print(etbag_mse, etbag_r2, etbag_mse_test, etbag_r2_test)\n",
    "fig, axes = plt.subplots(1, 2, figsize=(10, 5))\n",
    "axes[0].scatter(y_train, etbag_pred, alpha = 0.02)\n",
    "axes[0].plot((0, 0.4), (0, 0.4))\n",
    "axes[1].scatter(y_test, etbag_pred_test, alpha = 0.05)\n",
    "axes[1].plot((0, 0.4), (0, 0.4))"
   ]
  },
  {
   "cell_type": "markdown",
   "metadata": {},
   "source": [
    "### Predicting P01 using the adjusted model"
   ]
  },
  {
   "cell_type": "code",
   "execution_count": null,
   "metadata": {},
   "outputs": [],
   "source": [
    "df01_og = pd.read_pickle('P01.pkl')\n",
    "df01_og    # WMSD after KDE"
   ]
  },
  {
   "cell_type": "code",
   "execution_count": null,
   "metadata": {},
   "outputs": [],
   "source": [
    "X01 = df01_og[['Radius', 'ANT', 'GXYX', 'CURVE']]\n",
    "X01_s = StandardScaler().fit_transform(X01)\n",
    "X01_s"
   ]
  },
  {
   "cell_type": "code",
   "execution_count": null,
   "metadata": {},
   "outputs": [],
   "source": [
    "rf_pred_01 = rf_reg.predict(X01_s)\n",
    "df01_rf_pred = df01_og.copy()\n",
    "df01_rf_pred['WellMicroSeismicData'] = rf_pred_01\n",
    "np.savetxt('P01_rf_pred.csv', df01_rf_pred, fmt='%s')\n",
    "df01_rf_pred"
   ]
  },
  {
   "cell_type": "code",
   "execution_count": null,
   "metadata": {},
   "outputs": [],
   "source": [
    "etbag_pred_01 = etbag_reg.predict(X01_s)\n",
    "df01_etbag_pred = df01_og.copy()\n",
    "df01_etbag_pred['WellMicroSeismicData'] = etbag_pred_01\n",
    "np.savetxt('P01_etbag_pred.csv', df01_etbag_pred, fmt='%s')\n",
    "df01_etbag_pred"
   ]
  },
  {
   "cell_type": "code",
   "execution_count": null,
   "metadata": {},
   "outputs": [],
   "source": [
    "plt.scatter(rf_pred_01, etbag_pred_01, alpha = 0.05)\n",
    "plt.plot((0, 0.4), (0, 0.4))"
   ]
  }
 ],
 "metadata": {
  "kernelspec": {
   "display_name": "LatestPython",
   "language": "python",
   "name": "python3"
  },
  "language_info": {
   "codemirror_mode": {
    "name": "ipython",
    "version": 3
   },
   "file_extension": ".py",
   "mimetype": "text/x-python",
   "name": "python",
   "nbconvert_exporter": "python",
   "pygments_lexer": "ipython3",
   "version": "3.11.8"
  }
 },
 "nbformat": 4,
 "nbformat_minor": 2
}
