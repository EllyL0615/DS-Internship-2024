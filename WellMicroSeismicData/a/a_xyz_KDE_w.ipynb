{
 "cells": [
  {
   "cell_type": "code",
   "execution_count": null,
   "id": "9ba57926",
   "metadata": {},
   "outputs": [],
   "source": [
    "import pandas as pd\n",
    "import numpy as np\n",
    "import matplotlib.pyplot as plt"
   ]
  },
  {
   "cell_type": "code",
   "execution_count": null,
   "id": "20ca5b2f",
   "metadata": {},
   "outputs": [],
   "source": [
    "# DO NOT run this every time!\n",
    "df_orig = pd.read_table('a.awm', sep='\\s+', engine='python')\n",
    "df_orig.to_pickle('a.pkl')"
   ]
  },
  {
   "cell_type": "code",
   "execution_count": null,
   "id": "9a13274f",
   "metadata": {},
   "outputs": [],
   "source": [
    "df_og = pd.read_pickle('a.pkl')\n",
    "df_og    # Wrangler: head + info + null + hist"
   ]
  },
  {
   "cell_type": "code",
   "execution_count": null,
   "id": "6b56244d",
   "metadata": {},
   "outputs": [],
   "source": [
    "kde_w = pd.read_csv('density_0.9-3.csv', header = None, names = ['WellMicroSeismicData'])\n",
    "kde_w    # Wrangler: head + info + null + hist"
   ]
  },
  {
   "cell_type": "code",
   "execution_count": null,
   "id": "1af7e05b",
   "metadata": {},
   "outputs": [],
   "source": [
    "df0 = df_og[['Z', 'ANT', 'GXYX', 'CURVE']].copy()    # df with KDE WellMicroSeismicData\n",
    "df0 = df0.join(kde_w)\n",
    "df0"
   ]
  },
  {
   "cell_type": "code",
   "execution_count": null,
   "id": "8979b808",
   "metadata": {},
   "outputs": [],
   "source": [
    "df0.describe()"
   ]
  },
  {
   "cell_type": "code",
   "execution_count": null,
   "id": "c8f81f6b",
   "metadata": {},
   "outputs": [],
   "source": [
    "fig, axes = plt.subplots(1, 4, figsize=(20, 5))\n",
    "axes[0].scatter(df0['Z'], df0['WellMicroSeismicData'], alpha=0.1)\n",
    "axes[1].scatter(df0['ANT'], df0['WellMicroSeismicData'], alpha=0.1)\n",
    "axes[2].scatter(df0['GXYX'], df0['WellMicroSeismicData'], alpha=0.1)\n",
    "axes[3].scatter(df0['CURVE'], df0['WellMicroSeismicData'], alpha=0.1)"
   ]
  },
  {
   "cell_type": "code",
   "execution_count": null,
   "id": "280ff6da",
   "metadata": {},
   "outputs": [],
   "source": [
    "df = df0.copy()\n",
    "df['WellMicroSeismicData'] = df['WellMicroSeismicData'].apply(lambda x: x if x == 0 else 1)"
   ]
  },
  {
   "cell_type": "code",
   "execution_count": null,
   "id": "f4680e70",
   "metadata": {},
   "outputs": [],
   "source": [
    "df.corr()"
   ]
  },
  {
   "cell_type": "code",
   "execution_count": null,
   "id": "1be77be9",
   "metadata": {},
   "outputs": [],
   "source": [
    "from sklearn.model_selection import train_test_split\n",
    "\n",
    "train_set, test_set = train_test_split(df, test_size=0.2, random_state=42)\n",
    "\n",
    "X_train = train_set[['ANT', 'GXYX', 'CURVE']].copy()    # X_train: feature vairables in training dataset\n",
    "y_train = train_set['WellMicroSeismicData'].copy()    # y_train : response variable in training dataset\n",
    "X_test = test_set[['ANT', 'GXYX', 'CURVE']].copy()    # X_test: feature vairables in testing dataset\n",
    "y_test = test_set['WellMicroSeismicData'].copy()    # y_test : response variable in testing dataset\n",
    "\n",
    "X_train"
   ]
  },
  {
   "cell_type": "code",
   "execution_count": null,
   "id": "f1a165a2",
   "metadata": {},
   "outputs": [],
   "source": [
    "from sklearn.preprocessing import MinMaxScaler, StandardScaler\n",
    "X_train_s = MinMaxScaler().fit_transform(X_train)\n",
    "X_test_s = MinMaxScaler().fit_transform(X_test)\n",
    "X_train_s\n",
    "X_test_s"
   ]
  },
  {
   "cell_type": "code",
   "execution_count": null,
   "id": "0795ad73",
   "metadata": {},
   "outputs": [],
   "source": [
    "from sklearn.metrics import mean_squared_error, confusion_matrix\n",
    "from sklearn.model_selection import cross_val_score, cross_val_predict\n",
    "from sklearn.pipeline import Pipeline"
   ]
  },
  {
   "cell_type": "code",
   "execution_count": null,
   "id": "9f783f83",
   "metadata": {},
   "outputs": [],
   "source": [
    "from sklearn.linear_model import SGDClassifier\n",
    "\n",
    "sgd_clf = SGDClassifier(random_state=42, penalty='l2')\n",
    "sgd_clf.fit(X_train_s, y_train)\n",
    "\n",
    "sgd_predictions = sgd_clf.predict(X_train_s)\n",
    "sgd_mse = mean_squared_error(y_train, sgd_predictions)\n",
    "sgd_conf = confusion_matrix(y_train, sgd_predictions)\n",
    "\n",
    "#sgd_cv_predictions = cross_val_predict(sgd_clf, X_train_s, y_train, cv=5)\n",
    "#sgd_cv_conf = confusion_matrix(y_train, sgd_cv_predictions)\n",
    "\n",
    "sgd_mse, sgd_conf#, tree_cv_conf"
   ]
  },
  {
   "cell_type": "code",
   "execution_count": null,
   "id": "4ec56527",
   "metadata": {},
   "outputs": [],
   "source": [
    "sgd_predictions_test = sgd_clf.predict(X_test_s)\n",
    "sgd_conf_test = confusion_matrix(y_test, sgd_predictions_test)\n",
    "sgd_conf_test"
   ]
  },
  {
   "cell_type": "code",
   "execution_count": null,
   "id": "813e30dc",
   "metadata": {},
   "outputs": [],
   "source": [
    "from sklearn.linear_model import LogisticRegression\n",
    "\n",
    "log_reg = LogisticRegression(penalty='l2')\n",
    "log_reg.fit(X_train_s, y_train)\n",
    "\n",
    "log_predictions = log_reg.predict(X_train_s)\n",
    "log_mse = mean_squared_error(y_train, log_predictions)\n",
    "log_conf = confusion_matrix(y_train, log_predictions)\n",
    "\n",
    "#log_cv_predictions = cross_val_predict(log_reg, X_train_s, y_train, cv=5)\n",
    "#log_cv_conf = confusion_matrix(y_train, log_cv_predictions)\n",
    "\n",
    "log_mse, log_conf#, log_cv_conf"
   ]
  },
  {
   "cell_type": "code",
   "execution_count": null,
   "id": "70256f34",
   "metadata": {},
   "outputs": [],
   "source": [
    "log_predictions_test = log_reg.predict(X_test_s)\n",
    "log_conf_test = confusion_matrix(y_test, log_predictions_test)\n",
    "log_conf_test"
   ]
  },
  {
   "cell_type": "code",
   "execution_count": null,
   "id": "389c0288",
   "metadata": {},
   "outputs": [],
   "source": [
    "from sklearn.svm import LinearSVC\n",
    "\n",
    "svm_clf = Pipeline([\n",
    "    ('scalar', StandardScaler()),\n",
    "    ('linear_svm', LinearSVC(C=1, loss='hinge'))\n",
    "    ])\n",
    "svm_clf.fit(X_train_s, y_train)\n",
    "\n",
    "svm_predictions = svm_clf.predict(X_train_s)\n",
    "svm_mse = mean_squared_error(y_train, svm_predictions)\n",
    "svm_conf = confusion_matrix(y_train, svm_predictions)\n",
    "\n",
    "#svm_cv_predictions = cross_val_predict(svm_clf, X_train_s, y_train, cv=5)\n",
    "#svm_cv_conf = confusion_matrix(y_train, svm_cv_predictions)\n",
    "\n",
    "svm_mse, svm_conf#, svm_cv_conf"
   ]
  },
  {
   "cell_type": "code",
   "execution_count": null,
   "id": "bb7aa3fa",
   "metadata": {},
   "outputs": [],
   "source": [
    "svm_predictions_test = svm_clf.predict(X_test_s)\n",
    "svm_conf_test = confusion_matrix(y_test, svm_predictions_test)\n",
    "svm_conf_test"
   ]
  },
  {
   "cell_type": "code",
   "execution_count": null,
   "id": "1a397a85",
   "metadata": {},
   "outputs": [],
   "source": [
    "from sklearn.tree import DecisionTreeRegressor\n",
    "\n",
    "tree_reg = DecisionTreeRegressor()\n",
    "tree_reg.fit(X_train_s, y_train)\n",
    "\n",
    "tree_predictions = tree_reg.predict(X_train_s)\n",
    "tree_mse = mean_squared_error(y_train, tree_predictions)\n",
    "tree_conf = confusion_matrix(y_train, tree_predictions)\n",
    "\n",
    "#tree_cv_predictions = cross_val_predict(tree_reg, X_train_s, y_train, cv=5)\n",
    "#tree_cv_conf = confusion_matrix(y_train, tree_cv_predictions)\n",
    "\n",
    "tree_mse, tree_conf#, tree_cv_conf"
   ]
  },
  {
   "cell_type": "code",
   "execution_count": null,
   "id": "14d4695f",
   "metadata": {},
   "outputs": [],
   "source": [
    "tree_predictions_test = tree_reg.predict(X_test_s)\n",
    "tree_conf_test = confusion_matrix(y_test, tree_predictions_test)\n",
    "tree_conf_test"
   ]
  },
  {
   "cell_type": "code",
   "execution_count": null,
   "id": "30e6d714",
   "metadata": {},
   "outputs": [],
   "source": [
    "from sklearn.tree import DecisionTreeClassifier\n",
    "\n",
    "tree_clf = DecisionTreeClassifier()\n",
    "tree_clf.fit(X_train_s, y_train)\n",
    "\n",
    "tree_predictions = tree_clf.predict(X_train_s)\n",
    "tree_mse = mean_squared_error(y_train, tree_predictions)\n",
    "tree_conf = confusion_matrix(y_train, tree_predictions)\n",
    "\n",
    "#tree_cv_predictions = cross_val_predict(tree_clf, X_train_s, y_train, cv=5)\n",
    "#tree_cv_conf = confusion_matrix(y_train, tree_cv_predictions)\n",
    "\n",
    "tree_mse, tree_conf#, tree_cv_conf"
   ]
  },
  {
   "cell_type": "code",
   "execution_count": null,
   "id": "e83823aa",
   "metadata": {},
   "outputs": [],
   "source": [
    "tree_predictions_test = tree_clf.predict(X_test_s)\n",
    "tree_conf_test = confusion_matrix(y_test, tree_predictions_test)\n",
    "tree_conf_test"
   ]
  },
  {
   "cell_type": "code",
   "execution_count": null,
   "id": "71c017ba",
   "metadata": {},
   "outputs": [],
   "source": [
    "tree_clf.tree_.max_depth"
   ]
  },
  {
   "cell_type": "code",
   "execution_count": null,
   "id": "57d17e8b",
   "metadata": {},
   "outputs": [],
   "source": [
    "from sklearn.metrics import accuracy_score, recall_score, precision_score, f1_score, roc_curve, auc\n",
    "\n",
    "def train_and_evaluate(max_depth=None):\n",
    "    clf = DecisionTreeClassifier(max_depth=max_depth, random_state=42)\n",
    "    clf.fit(X_train_s, y_train)\n",
    "    y_pred_train = clf.predict(X_train_s)\n",
    "    y_pred_test = clf.predict(X_test_s)\n",
    "    \n",
    "    train_accuracy = accuracy_score(y_train, y_pred_train)\n",
    "    test_accuracy = accuracy_score(y_test, y_pred_test)\n",
    "    \n",
    "    train_recall = recall_score(y_train, y_pred_train)\n",
    "    test_recall = recall_score(y_test, y_pred_test)\n",
    "    \n",
    "    return train_accuracy, test_accuracy, train_recall, test_recall"
   ]
  },
  {
   "cell_type": "code",
   "execution_count": null,
   "id": "2893020b",
   "metadata": {},
   "outputs": [],
   "source": [
    "max_depths = [1, 50, 100, 120, 131]\n",
    "train_accuracies = []\n",
    "test_accuracies = []\n",
    "train_recalls = []\n",
    "test_recalls = []\n",
    "\n",
    "for i in max_depths:\n",
    "    a, b, c, d = train_and_evaluate(max_depth=i)\n",
    "    train_accuracies.append(a)\n",
    "    test_accuracies.append(b)\n",
    "    train_recalls.append(c)\n",
    "    test_recalls.append(d)\n",
    "\n",
    "\n",
    "plt.figure(figsize=(10, 5))\n",
    "\n",
    "plt.subplot(1, 2, 1)\n",
    "plt.plot(max_depths, train_accuracies, label='Training Accuracy')\n",
    "plt.plot(max_depths, test_accuracies, label='Test Accuracy')\n",
    "plt.xlabel('Maximum Depth')\n",
    "plt.ylabel('Accuracy')\n",
    "plt.title('Accuracy vs Maximum Depth')\n",
    "plt.legend()\n",
    "\n",
    "plt.subplot(1, 2, 2)\n",
    "plt.plot(max_depths, train_recalls, label='Training Recall')\n",
    "plt.plot(max_depths, test_recalls, label='Test Recall')\n",
    "plt.xlabel('Maximum Depth')\n",
    "plt.ylabel('Recall')\n",
    "plt.title('Recall vs Maximum Depth')\n",
    "plt.legend()\n",
    "\n",
    "plt.tight_layout()\n",
    "plt.savefig(\"accuracy_recall_plot.webp\")\n",
    "plt.show()\n",
    "\n",
    "train_accuracies, test_accuracies, train_recalls, test_recalls"
   ]
  },
  {
   "cell_type": "code",
   "execution_count": null,
   "id": "be80c2b0",
   "metadata": {},
   "outputs": [],
   "source": [
    "max_depths = [40, 45, 50, 55, 60]\n",
    "train_accuracies = []\n",
    "test_accuracies = []\n",
    "train_recalls = []\n",
    "test_recalls = []\n",
    "\n",
    "for i in max_depths:\n",
    "    a, b, c, d = train_and_evaluate(max_depth=i)\n",
    "    train_accuracies.append(a)\n",
    "    test_accuracies.append(b)\n",
    "    train_recalls.append(c)\n",
    "    test_recalls.append(d)\n",
    "\n",
    "\n",
    "plt.figure(figsize=(10, 5))\n",
    "\n",
    "plt.subplot(1, 2, 1)\n",
    "plt.plot(max_depths, train_accuracies, label='Training Accuracy')\n",
    "plt.plot(max_depths, test_accuracies, label='Test Accuracy')\n",
    "plt.xlabel('Maximum Depth')\n",
    "plt.ylabel('Accuracy')\n",
    "plt.title('Accuracy vs Maximum Depth')\n",
    "plt.legend()\n",
    "\n",
    "plt.subplot(1, 2, 2)\n",
    "plt.plot(max_depths, train_recalls, label='Training Recall')\n",
    "plt.plot(max_depths, test_recalls, label='Test Recall')\n",
    "plt.xlabel('Maximum Depth')\n",
    "plt.ylabel('Recall')\n",
    "plt.title('Recall vs Maximum Depth')\n",
    "plt.legend()\n",
    "\n",
    "plt.tight_layout()\n",
    "plt.savefig(\"accuracy_recall_plot.webp\")\n",
    "plt.show()\n",
    "\n",
    "train_accuracies, test_accuracies, train_recalls, test_recalls"
   ]
  },
  {
   "cell_type": "code",
   "execution_count": null,
   "id": "0aec5658",
   "metadata": {},
   "outputs": [],
   "source": [
    "max_depths = [20, 25, 30, 35, 40]\n",
    "train_accuracies = []\n",
    "test_accuracies = []\n",
    "train_recalls = []\n",
    "test_recalls = []\n",
    "\n",
    "for i in max_depths:\n",
    "    a, b, c, d = train_and_evaluate(max_depth=i)\n",
    "    train_accuracies.append(a)\n",
    "    test_accuracies.append(b)\n",
    "    train_recalls.append(c)\n",
    "    test_recalls.append(d)\n",
    "\n",
    "\n",
    "plt.figure(figsize=(10, 5))\n",
    "\n",
    "plt.subplot(1, 2, 1)\n",
    "plt.plot(max_depths, train_accuracies, label='Training Accuracy')\n",
    "plt.plot(max_depths, test_accuracies, label='Test Accuracy')\n",
    "plt.xlabel('Maximum Depth')\n",
    "plt.ylabel('Accuracy')\n",
    "plt.title('Accuracy vs Maximum Depth')\n",
    "plt.legend()\n",
    "\n",
    "plt.subplot(1, 2, 2)\n",
    "plt.plot(max_depths, train_recalls, label='Training Recall')\n",
    "plt.plot(max_depths, test_recalls, label='Test Recall')\n",
    "plt.xlabel('Maximum Depth')\n",
    "plt.ylabel('Recall')\n",
    "plt.title('Recall vs Maximum Depth')\n",
    "plt.legend()\n",
    "\n",
    "plt.tight_layout()\n",
    "plt.savefig(\"accuracy_recall_plot.webp\")\n",
    "plt.show()\n",
    "\n",
    "train_accuracies, test_accuracies, train_recalls, test_recalls"
   ]
  },
  {
   "cell_type": "code",
   "execution_count": null,
   "id": "c70d4959",
   "metadata": {},
   "outputs": [],
   "source": [
    "from sklearn.tree import DecisionTreeClassifier\n",
    "\n",
    "tree_clf = DecisionTreeClassifier(max_depth=25)\n",
    "tree_clf.fit(X_train_s, y_train)\n",
    "\n",
    "tree_predictions = tree_clf.predict(X_train_s)\n",
    "tree_mse = mean_squared_error(y_train, tree_predictions)\n",
    "tree_conf = confusion_matrix(y_train, tree_predictions)\n",
    "\n",
    "#tree_cv_predictions = cross_val_predict(tree_clf, X_train_s, y_train, cv=5)\n",
    "#tree_cv_conf = confusion_matrix(y_train, tree_cv_predictions)\n",
    "\n",
    "tree_mse, tree_conf#, tree_cv_conf"
   ]
  },
  {
   "cell_type": "code",
   "execution_count": null,
   "id": "b6fb8c17",
   "metadata": {},
   "outputs": [],
   "source": [
    "tree_predictions_test = tree_clf.predict(X_test_s)\n",
    "tree_conf_test = confusion_matrix(y_test, tree_predictions_test)\n",
    "tree_conf_test"
   ]
  },
  {
   "cell_type": "code",
   "execution_count": null,
   "id": "b202ad42",
   "metadata": {},
   "outputs": [],
   "source": [
    "parameter = {\n",
    "    'criterion' :['entropy','gini','log_loss'],    # log_loss\n",
    "    'splitter':['best','random'],    # random\n",
    "    'max_features':['sqrt','log2']    # log2\n",
    "}\n",
    "model = DecisionTreeClassifier(max_depth=25)\n",
    "from sklearn.model_selection import GridSearchCV\n",
    "cv = GridSearchCV(model,param_grid = parameter,cv = 5)\n",
    "cv.fit(X_train_s,y_train)\n",
    "\n",
    "cv.score(X_test_s,y_test)\n",
    "cv.best_params_"
   ]
  },
  {
   "cell_type": "code",
   "execution_count": null,
   "id": "b657b300",
   "metadata": {},
   "outputs": [],
   "source": [
    "from sklearn.tree import DecisionTreeClassifier\n",
    "\n",
    "tree_clf = DecisionTreeClassifier(criterion='log_loss', splitter='best', max_features='log2', max_depth=25)\n",
    "tree_clf.fit(X_train_s, y_train)\n",
    "\n",
    "tree_predictions = tree_clf.predict(X_train_s)\n",
    "tree_mse = mean_squared_error(y_train, tree_predictions)\n",
    "tree_conf = confusion_matrix(y_train, tree_predictions)\n",
    "\n",
    "#tree_cv_predictions = cross_val_predict(tree_clf, X_train_s, y_train, cv=5)\n",
    "#tree_cv_conf = confusion_matrix(y_train, tree_cv_predictions)\n",
    "\n",
    "tree_predictions_test = tree_clf.predict(X_test_s)\n",
    "tree_conf_test = confusion_matrix(y_test, tree_predictions_test)\n",
    "\n",
    "tree_mse, tree_conf, tree_conf_test, #, tree_cv_conf"
   ]
  },
  {
   "cell_type": "code",
   "execution_count": null,
   "id": "19940c7f",
   "metadata": {},
   "outputs": [],
   "source": [
    "from sklearn.tree import export_graphviz\n",
    "\n",
    "export_graphviz(\n",
    "        tree_clf,\n",
    "        out_file=\"tree_clf.dot\",\n",
    "        rounded=True,\n",
    "        filled=True\n",
    "    )"
   ]
  },
  {
   "cell_type": "code",
   "execution_count": null,
   "id": "c5220d6a",
   "metadata": {},
   "outputs": [],
   "source": [
    "tree_clf.tree_.compute_feature_importances()"
   ]
  },
  {
   "cell_type": "code",
   "execution_count": null,
   "id": "eab4ef4c",
   "metadata": {},
   "outputs": [],
   "source": [
    "from sklearn.decomposition import PCA\n",
    "\n",
    "pca = PCA()\n",
    "pca.fit(X_train_s)\n",
    "plt.plot(pca.explained_variance_ratio_)\n",
    "pca.explained_variance_ratio_"
   ]
  },
  {
   "cell_type": "code",
   "execution_count": null,
   "id": "0390a8c2",
   "metadata": {},
   "outputs": [],
   "source": [
    "pca_2d = PCA(n_components=2)\n",
    "X_train_2d = pca_2d.fit_transform(X_train_s)\n",
    "\n",
    "colour = ['r', 'b']\n",
    "for l, c in zip(np.unique(y_train), colour):\n",
    "    plt.scatter(X_train_2d[y_train == l, 0], X_train_2d[y_train == l,1],\n",
    "                c=c, label=l, alpha=0.1)\n"
   ]
  },
  {
   "cell_type": "code",
   "execution_count": null,
   "id": "5a19bfda",
   "metadata": {},
   "outputs": [],
   "source": [
    "pca.components_"
   ]
  }
 ],
 "metadata": {
  "kernelspec": {
   "display_name": "myprj",
   "language": "python",
   "name": "python3"
  },
  "language_info": {
   "codemirror_mode": {
    "name": "ipython",
    "version": 3
   },
   "file_extension": ".py",
   "mimetype": "text/x-python",
   "name": "python",
   "nbconvert_exporter": "python",
   "pygments_lexer": "ipython3",
   "version": "3.11.8"
  }
 },
 "nbformat": 4,
 "nbformat_minor": 5
}
